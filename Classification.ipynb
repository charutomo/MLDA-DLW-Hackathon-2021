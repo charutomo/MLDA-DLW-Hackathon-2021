{
  "nbformat": 4,
  "nbformat_minor": 0,
  "metadata": {
    "colab": {
      "name": "Untitled0.ipynb",
      "provenance": [],
      "authorship_tag": "ABX9TyO7eUcNdOBpFhKiMBmTd+Gi",
      "include_colab_link": true
    },
    "kernelspec": {
      "name": "python3",
      "display_name": "Python 3"
    },
    "language_info": {
      "name": "python"
    }
  },
  "cells": [
    {
      "cell_type": "markdown",
      "metadata": {
        "id": "view-in-github",
        "colab_type": "text"
      },
      "source": [
        "<a href=\"https://colab.research.google.com/github/charutomo/MLDA-DLW-Hackathon-2021/blob/main/Classification.ipynb\" target=\"_parent\"><img src=\"https://colab.research.google.com/assets/colab-badge.svg\" alt=\"Open In Colab\"/></a>"
      ]
    },
    {
      "cell_type": "code",
      "metadata": {
        "id": "EAeROGs7mjLa",
        "colab": {
          "base_uri": "https://localhost:8080/"
        },
        "outputId": "ebe9966e-bfdc-4b2a-876c-27e5b5ec2835"
      },
      "source": [
        "from google.colab import drive\n",
        "drive.mount('/content/drive')"
      ],
      "execution_count": null,
      "outputs": [
        {
          "output_type": "stream",
          "name": "stdout",
          "text": [
            "Mounted at /content/drive\n"
          ]
        }
      ]
    },
    {
      "cell_type": "code",
      "metadata": {
        "id": "WK45mAI0mmBM",
        "colab": {
          "base_uri": "https://localhost:8080/"
        },
        "outputId": "9cfc17fa-3f51-4c19-9bda-b78e8348fe23"
      },
      "source": [
        "cd /content/drive/MyDrive"
      ],
      "execution_count": null,
      "outputs": [
        {
          "output_type": "stream",
          "name": "stdout",
          "text": [
            "/content/drive/MyDrive\n"
          ]
        }
      ]
    },
    {
      "cell_type": "code",
      "metadata": {
        "id": "o1pZN-2oyg8S",
        "colab": {
          "base_uri": "https://localhost:8080/"
        },
        "outputId": "8413101e-fcf1-4d61-f10a-656c6a97c9a7"
      },
      "source": [
        "import tensorflow as tf\n",
        "print(\"Num GPUs Available: \", len(tf.config.experimental.list_physical_devices('GPU')))"
      ],
      "execution_count": null,
      "outputs": [
        {
          "output_type": "stream",
          "name": "stdout",
          "text": [
            "Num GPUs Available:  0\n"
          ]
        }
      ]
    },
    {
      "cell_type": "code",
      "metadata": {
        "id": "TsKx_kzknLX6"
      },
      "source": [
        "import os\n",
        "import numpy as np\n",
        "import tensorflow as tf\n",
        "from tensorflow.keras.models import Sequential\n",
        "from keras.layers import Activation, Dropout, Flatten, Dense\n",
        "from keras.preprocessing.image import ImageDataGenerator\n",
        "from keras.layers import Convolution2D, MaxPooling2D, ZeroPadding2D\n",
        "from tensorflow.keras.optimizers import RMSprop\n",
        "from tensorflow.keras.applications.vgg16 import VGG16\n",
        "from tensorflow.python.keras.layers import Dense, Flatten, GlobalAveragePooling2D\n",
        "from keras import optimizers\n",
        "from keras import applications\n",
        "from keras.models import Model\n",
        "from keras.callbacks import History,ReduceLROnPlateau"
      ],
      "execution_count": null,
      "outputs": []
    },
    {
      "cell_type": "code",
      "metadata": {
        "id": "iBzUCYWEunMl"
      },
      "source": [
        "# from tensorflow.keras.applications.resnet import preprocess_input\n",
        "# from tensorflow.keras.applications.inception_v3 import preprocess_input\n",
        "from tensorflow.keras.applications.densenet import preprocess_input"
      ],
      "execution_count": null,
      "outputs": []
    },
    {
      "cell_type": "code",
      "metadata": {
        "id": "uY5jyCEKupCn"
      },
      "source": [
        "# loading training data\n",
        "train_datagen = ImageDataGenerator(preprocessing_function=preprocess_input,\n",
        "                                #    shear_range=0.2,\n",
        "                                  #  zoom_range=0.4,\n",
        "                                  #  rotation_range=30,\n",
        "                                   )\n",
        "\n",
        "valid_datagen = ImageDataGenerator(preprocessing_function=preprocess_input)\n",
        "# test_datagen = ImageDataGenerator(preprocessing_function=preprocess_input)\n",
        "\n",
        "train_generator = train_datagen.flow_from_directory(\n",
        "        '/content/drive/MyDrive/BedSet/train',\n",
        "        target_size=(45, 45),\n",
        "        class_mode='categorical')\n",
        "\n",
        "validation_generator = valid_datagen.flow_from_directory(\n",
        "    '/content/drive/MyDrive/BedSet/valid',\n",
        "    shuffle=False,\n",
        "    target_size=(45, 45),\n",
        "    class_mode='categorical')"
      ],
      "execution_count": null,
      "outputs": []
    },
    {
      "cell_type": "code",
      "metadata": {
        "id": "zRNEHQ-YurdM"
      },
      "source": [
        "from tensorflow.keras.applications import ResNet152, ResNet50, InceptionV3, DenseNet121, DenseNet201"
      ],
      "execution_count": null,
      "outputs": []
    },
    {
      "cell_type": "code",
      "metadata": {
        "id": "cMb4IuhcutKt"
      },
      "source": [
        "model = Sequential()\n",
        "# create the base pre-trained model\n",
        "model.add(DenseNet201(input_shape=(45, 45,3), weights='imagenet', include_top=False))\n",
        "# add a global spatial average pooling layer\n",
        "model.add(GlobalAveragePooling2D())\n",
        "# let's add a fully-connected layer\n",
        "model.add(Dense(1024, activation='relu'))\n",
        "# and a logistic layer -- let's say we have 60 classes\n",
        "model.add(Dense(len(train_generator.class_indices), activation='softmax'))"
      ],
      "execution_count": null,
      "outputs": []
    },
    {
      "cell_type": "code",
      "metadata": {
        "id": "LGv69HmSuvR6"
      },
      "source": [
        "# specify training loss function \n",
        "model.compile(loss='categorical_crossentropy',\n",
        "              optimizer=tf.keras.optimizers.RMSprop(learning_rate=0.0001),\n",
        "              metrics=['accuracy'])"
      ],
      "execution_count": null,
      "outputs": []
    },
    {
      "cell_type": "code",
      "metadata": {
        "id": "U3beHCfNuwzh"
      },
      "source": [
        "reduce_lr = ReduceLROnPlateau(monitor='loss', factor=0.5, patience=3, verbose = 1)\n",
        "\n",
        "model_checkpoint = tf.keras.callbacks.ModelCheckpoint(\n",
        "    filepath='/content/drive/MyDrive/Models/desnet201e30',\n",
        "    monitor='val_loss',\n",
        "    save_weights_only=False,\n",
        "    save_best_only=True)\n",
        "\n",
        "model.fit(x=train_generator, validation_data=validation_generator, epochs = 30, callbacks=[reduce_lr,model_checkpoint])"
      ],
      "execution_count": null,
      "outputs": []
    },
    {
      "cell_type": "code",
      "metadata": {
        "id": "oEvlVXtYu0r2"
      },
      "source": [
        "test_datagen = ImageDataGenerator(preprocessing_function=preprocess_input)\n",
        "test_generator = test_datagen.flow_from_directory(\n",
        "    '/content/drive/MyDrive/BedSet/test',\n",
        "    shuffle=False,\n",
        "    target_size=(45, 45),\n",
        "    class_mode='categorical')"
      ],
      "execution_count": null,
      "outputs": []
    },
    {
      "cell_type": "code",
      "metadata": {
        "id": "dzRCvt1Wu2GR"
      },
      "source": [
        "# test_generator.classes\n",
        "# test_generator.class_indices\n",
        "# test_generator.filenames"
      ],
      "execution_count": null,
      "outputs": []
    },
    {
      "cell_type": "code",
      "metadata": {
        "id": "RkHLpZFKzHIL"
      },
      "source": [
        "train_generator.class_indices.keys()"
      ],
      "execution_count": null,
      "outputs": []
    },
    {
      "cell_type": "code",
      "metadata": {
        "id": "M5-Zp-5VyapL"
      },
      "source": [
        "train_generator.class_indices"
      ],
      "execution_count": null,
      "outputs": []
    },
    {
      "cell_type": "code",
      "metadata": {
        "id": "D9yeC9zau6gg"
      },
      "source": [
        "top1 = 0\n",
        "top2 = 0\n",
        "top3 = 0\n",
        "predict = model.predict(test_generator)\n",
        "\n",
        "for i in range(len(predict)):\n",
        "  result = np.argsort(-predict[i])\n",
        "  truth = test_generator.classes[i]\n",
        "  if truth in result[:3]: top3 += 1\n",
        "  if truth in result[:2]: top2 += 1\n",
        "  if truth in result[:1]: top1 += 1\n",
        "\n",
        "top1 = top1/len(predict)\n",
        "top2 = top2/len(predict)\n",
        "top3 = top3/len(predict)\n",
        "print(top1, top2, top3)"
      ],
      "execution_count": null,
      "outputs": []
    },
    {
      "cell_type": "code",
      "metadata": {
        "id": "Vs-pITaoo8gs"
      },
      "source": [
        "from tensorflow import keras\n",
        "model = keras.models.load_model('/content/drive/MyDrive/Models/desnet201e30')"
      ],
      "execution_count": null,
      "outputs": []
    }
  ]
}
